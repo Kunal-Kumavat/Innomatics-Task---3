{
 "cells": [
  {
   "cell_type": "markdown",
   "id": "eb3056ea",
   "metadata": {},
   "source": [
    "# Task 3 Basic"
   ]
  },
  {
   "cell_type": "markdown",
   "id": "8e2278ba",
   "metadata": {},
   "source": [
    "### Polar coordinates"
   ]
  },
  {
   "cell_type": "code",
   "execution_count": null,
   "id": "fb7c5e06",
   "metadata": {},
   "outputs": [],
   "source": [
    "import cmath;\n",
    "\n",
    "number = complex(input())\n",
    "comp = complex(number)\n",
    "\n",
    "print(cmath.polar(comp)[0])\n",
    "print(cmath.polar(comp)[1])"
   ]
  },
  {
   "cell_type": "markdown",
   "id": "3af89218",
   "metadata": {},
   "source": [
    "### find angle abc"
   ]
  },
  {
   "cell_type": "code",
   "execution_count": null,
   "id": "3e8653c4",
   "metadata": {},
   "outputs": [],
   "source": [
    "import math\n",
    "\n",
    "ab = int(input())\n",
    "bc = int(input())\n",
    "\n",
    "hypo = math.sqrt(ab**2 + bc**2)\n",
    "hypo = hypo/2.0\n",
    "adj = bc/2.0\n",
    "\n",
    "Output = int(round(math.degrees(math.acos(adj/hypo))))\n",
    "\n",
    "Output = str(Output)\n",
    "\n",
    "print(Output + chr(176))"
   ]
  },
  {
   "cell_type": "markdown",
   "id": "56d2d8e3",
   "metadata": {},
   "source": [
    "### triangle quest"
   ]
  },
  {
   "cell_type": "code",
   "execution_count": null,
   "id": "7ec4cd51",
   "metadata": {},
   "outputs": [],
   "source": [
    "for i in range(1,int(input())+1): #More than 2 lines will result in 0 score. Do not leave a blank line also\n",
    "    print (int((10**i-1)/9)**2)"
   ]
  },
  {
   "cell_type": "markdown",
   "id": "00ad4c1a",
   "metadata": {},
   "source": [
    "### mod divmod"
   ]
  },
  {
   "cell_type": "code",
   "execution_count": null,
   "id": "fde46a05",
   "metadata": {},
   "outputs": [],
   "source": [
    "a = int(input())\n",
    "b = int(input())\n",
    "print(a//b)\n",
    "print(a%b)\n",
    "print(tuple((a//b,a%b)))"
   ]
  },
  {
   "cell_type": "markdown",
   "id": "181c908c",
   "metadata": {},
   "source": [
    "### power - mod power"
   ]
  },
  {
   "cell_type": "code",
   "execution_count": null,
   "id": "ddcfd1f5",
   "metadata": {},
   "outputs": [],
   "source": [
    "a = int(input())\n",
    "b = int(input())\n",
    "c = int(input())\n",
    "\n",
    "print(pow(a,b))\n",
    "print(pow(a,b,c))"
   ]
  },
  {
   "cell_type": "markdown",
   "id": "aa5b0c05",
   "metadata": {},
   "source": [
    "### integers come in all sizes"
   ]
  },
  {
   "cell_type": "code",
   "execution_count": null,
   "id": "934ad648",
   "metadata": {},
   "outputs": [],
   "source": [
    "a = int(input())\n",
    "b = int(input())\n",
    "c = int(input())\n",
    "d = int(input())\n",
    "\n",
    "print(pow(a,b)+pow(c,d))"
   ]
  },
  {
   "cell_type": "markdown",
   "id": "7bb649bb",
   "metadata": {},
   "source": [
    "### triangle quest"
   ]
  },
  {
   "cell_type": "code",
   "execution_count": null,
   "id": "63e3f9c7",
   "metadata": {},
   "outputs": [],
   "source": [
    "for i in range(1,int(input())): #More than 2 lines will result in 0 score. Do not leave a blank line also\n",
    "    print(int(i * 10**i / 9))"
   ]
  }
 ],
 "metadata": {
  "kernelspec": {
   "display_name": "Python 3 (ipykernel)",
   "language": "python",
   "name": "python3"
  },
  "language_info": {
   "codemirror_mode": {
    "name": "ipython",
    "version": 3
   },
   "file_extension": ".py",
   "mimetype": "text/x-python",
   "name": "python",
   "nbconvert_exporter": "python",
   "pygments_lexer": "ipython3",
   "version": "3.10.8"
  }
 },
 "nbformat": 4,
 "nbformat_minor": 5
}
